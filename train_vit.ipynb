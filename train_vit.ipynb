{
 "cells": [
  {
   "cell_type": "markdown",
   "metadata": {},
   "source": [
    "# Vision Transformers vs. CNN on CIFAR-10\n",
    "\n",
    "This notebook compares the performance of a Vision Transformer (ViT) with a standard CNN (ResNet18) on the CIFAR-10 image classification task."
   ],
   "id": "eeab425f8bdc2b1d"
  },
  {
   "cell_type": "code",
   "metadata": {
    "ExecuteTime": {
     "end_time": "2025-04-16T00:25:29.554011Z",
     "start_time": "2025-04-16T00:25:27.315822Z"
    }
   },
   "source": [
    "# Install required package\n",
    "!pip install timm --quiet"
   ],
   "id": "43f94f691da7c9e4",
   "outputs": [
    {
     "name": "stderr",
     "output_type": "stream",
     "text": [
      "\n",
      "[notice] A new release of pip is available: 23.2.1 -> 25.0.1\n",
      "[notice] To update, run: python.exe -m pip install --upgrade pip\n"
     ]
    }
   ],
   "execution_count": 1
  },
  {
   "cell_type": "code",
   "metadata": {
    "ExecuteTime": {
     "end_time": "2025-04-16T00:25:33.752653Z",
     "start_time": "2025-04-16T00:25:29.644633Z"
    }
   },
   "source": [
    "# Import packages\n",
    "import torch\n",
    "import torch.nn as nn\n",
    "import torchvision\n",
    "import torchvision.transforms as transforms\n",
    "from torchvision.models import resnet18\n",
    "import timm\n",
    "import time\n",
    "import matplotlib.pyplot as plt\n",
    "import tqdm"
   ],
   "id": "4f673aac6f2c754a",
   "outputs": [],
   "execution_count": 2
  },
  {
   "cell_type": "code",
   "metadata": {
    "ExecuteTime": {
     "end_time": "2025-04-16T00:25:33.918076Z",
     "start_time": "2025-04-16T00:25:33.894220Z"
    }
   },
   "source": [
    "# Device configuration\n",
    "device = torch.device('cuda' if torch.cuda.is_available() else 'cpu')"
   ],
   "id": "5f2be51183ebdd72",
   "outputs": [],
   "execution_count": 3
  },
  {
   "cell_type": "markdown",
   "metadata": {},
   "source": [
    "## Load and preprocess CIFAR-10"
   ],
   "id": "69b58099938ec704"
  },
  {
   "cell_type": "code",
   "metadata": {
    "ExecuteTime": {
     "end_time": "2025-04-16T00:25:35.702465Z",
     "start_time": "2025-04-16T00:25:33.925495Z"
    }
   },
   "source": [
    "transform = transforms.Compose([\n",
    "    transforms.Resize(224),\n",
    "    transforms.ToTensor(),\n",
    "    transforms.Normalize((0.485, 0.456, 0.406), \n",
    "                         (0.229, 0.224, 0.225))\n",
    "])\n",
    "\n",
    "train_dataset = torchvision.datasets.CIFAR10(root='./data', train=True,\n",
    "                                             download=True, transform=transform)\n",
    "test_dataset = torchvision.datasets.CIFAR10(root='./data', train=False,\n",
    "                                            download=True, transform=transform)\n",
    "\n",
    "train_loader = torch.utils.data.DataLoader(train_dataset, batch_size=64, shuffle=True)\n",
    "test_loader = torch.utils.data.DataLoader(test_dataset, batch_size=64, shuffle=False)"
   ],
   "id": "2455448d7479a8f",
   "outputs": [
    {
     "name": "stdout",
     "output_type": "stream",
     "text": [
      "Files already downloaded and verified\n",
      "Files already downloaded and verified\n"
     ]
    }
   ],
   "execution_count": 4
  },
  {
   "cell_type": "markdown",
   "metadata": {},
   "source": [
    "## Define training and evaluation utilities"
   ],
   "id": "6090a804e599d036"
  },
  {
   "cell_type": "code",
   "metadata": {
    "ExecuteTime": {
     "end_time": "2025-04-16T00:25:35.717360Z",
     "start_time": "2025-04-16T00:25:35.711525Z"
    }
   },
   "source": [
    "def train(model, train_loader, criterion, optimizer, device):\n",
    "    model.train()\n",
    "    running_loss, correct, total = 0.0, 0, 0\n",
    "    for images, labels in train_loader:\n",
    "        images, labels = images.to(device), labels.to(device)\n",
    "        optimizer.zero_grad()\n",
    "        outputs = model(images)\n",
    "        loss = criterion(outputs, labels)\n",
    "        loss.backward()\n",
    "        optimizer.step()\n",
    "        running_loss += loss.item()\n",
    "        _, predicted = torch.max(outputs.data, 1)\n",
    "        total += labels.size(0)\n",
    "        correct += (predicted == labels).sum().item()\n",
    "    return running_loss / len(train_loader), 100 * correct / total\n",
    "\n",
    "def evaluate(model, test_loader, device):\n",
    "    model.eval()\n",
    "    correct, total = 0, 0\n",
    "    with torch.no_grad():\n",
    "        for images, labels in test_loader:\n",
    "            images, labels = images.to(device), labels.to(device)\n",
    "            outputs = model(images)\n",
    "            _, predicted = torch.max(outputs.data, 1)\n",
    "            total += labels.size(0)\n",
    "            correct += (predicted == labels).sum().item()\n",
    "    return 100 * correct / total"
   ],
   "id": "c92050b223702b81",
   "outputs": [],
   "execution_count": 5
  },
  {
   "cell_type": "markdown",
   "metadata": {},
   "source": "## Train ViT",
   "id": "fa729d37e3fb4323"
  },
  {
   "metadata": {
    "ExecuteTime": {
     "end_time": "2025-04-16T02:17:09.532833900Z",
     "start_time": "2025-04-16T01:11:33.981520Z"
    }
   },
   "cell_type": "code",
   "source": [
    "# Define and move ViT to device\n",
    "vit = timm.create_model('vit_tiny_patch16_224', pretrained=True, num_classes=10)\n",
    "vit = vit.to(device)\n",
    "\n",
    "print(\"\\nTraining ViT Tiny...\")\n",
    "criterion = nn.CrossEntropyLoss()\n",
    "optimizer_vit = torch.optim.Adam(vit.parameters(), lr=1e-4)\n",
    "train_losses_vit, train_accs_vit, test_accs_vit = [], [], []\n",
    "\n",
    "for epoch in range(5):\n",
    "    vit.train()\n",
    "    running_loss, correct, total = 0.0, 0, 0\n",
    "    loop = tqdm.tqdm(train_loader, desc=f\"ViT Epoch {epoch+1}\", leave=False)\n",
    "\n",
    "    for images, labels in loop:\n",
    "        images, labels = images.to(device), labels.to(device)\n",
    "        optimizer_vit.zero_grad()\n",
    "        outputs = vit(images)\n",
    "        loss = criterion(outputs, labels)\n",
    "        loss.backward()\n",
    "        optimizer_vit.step()\n",
    "\n",
    "        running_loss += loss.item()\n",
    "        _, predicted = torch.max(outputs.data, 1)\n",
    "        total += labels.size(0)\n",
    "        correct += (predicted == labels).sum().item()\n",
    "        loop.set_postfix(loss=loss.item(), acc=100 * correct / total)\n",
    "\n",
    "    avg_loss = running_loss / len(train_loader)\n",
    "    train_acc = 100 * correct / total\n",
    "    test_acc = evaluate(vit, test_loader, device)\n",
    "\n",
    "    train_losses_vit.append(avg_loss)\n",
    "    train_accs_vit.append(train_acc)\n",
    "    test_accs_vit.append(test_acc)\n",
    "\n",
    "    print(f\"ViT Epoch {epoch+1}: Train Acc={train_acc:.2f}%, Test Acc={test_acc:.2f}%\")\n",
    "\n",
    "torch.save(vit.state_dict(), \"vit_cifar10.pth\")\n"
   ],
   "id": "538243096ca755a7",
   "outputs": [
    {
     "name": "stdout",
     "output_type": "stream",
     "text": [
      "\n",
      "Training ViT Tiny...\n"
     ]
    },
    {
     "name": "stderr",
     "output_type": "stream",
     "text": [
      "                                                                                     \r"
     ]
    },
    {
     "name": "stdout",
     "output_type": "stream",
     "text": [
      "ViT Epoch 1: Train Acc=92.25%, Test Acc=95.80%\n"
     ]
    },
    {
     "name": "stderr",
     "output_type": "stream",
     "text": [
      "                                                                                      \r"
     ]
    },
    {
     "name": "stdout",
     "output_type": "stream",
     "text": [
      "ViT Epoch 2: Train Acc=97.09%, Test Acc=95.77%\n"
     ]
    },
    {
     "name": "stderr",
     "output_type": "stream",
     "text": [
      "                                                                                   \r"
     ]
    },
    {
     "ename": "KeyboardInterrupt",
     "evalue": "",
     "output_type": "error",
     "traceback": [
      "\u001B[1;31m---------------------------------------------------------------------------\u001B[0m",
      "\u001B[1;31mKeyboardInterrupt\u001B[0m                         Traceback (most recent call last)",
      "Cell \u001B[1;32mIn[9], line 23\u001B[0m\n\u001B[0;32m     20\u001B[0m loss\u001B[38;5;241m.\u001B[39mbackward()\n\u001B[0;32m     21\u001B[0m optimizer_vit\u001B[38;5;241m.\u001B[39mstep()\n\u001B[1;32m---> 23\u001B[0m running_loss \u001B[38;5;241m+\u001B[39m\u001B[38;5;241m=\u001B[39m \u001B[43mloss\u001B[49m\u001B[38;5;241;43m.\u001B[39;49m\u001B[43mitem\u001B[49m\u001B[43m(\u001B[49m\u001B[43m)\u001B[49m\n\u001B[0;32m     24\u001B[0m _, predicted \u001B[38;5;241m=\u001B[39m torch\u001B[38;5;241m.\u001B[39mmax(outputs\u001B[38;5;241m.\u001B[39mdata, \u001B[38;5;241m1\u001B[39m)\n\u001B[0;32m     25\u001B[0m total \u001B[38;5;241m+\u001B[39m\u001B[38;5;241m=\u001B[39m labels\u001B[38;5;241m.\u001B[39msize(\u001B[38;5;241m0\u001B[39m)\n",
      "\u001B[1;31mKeyboardInterrupt\u001B[0m: "
     ]
    }
   ],
   "execution_count": 9
  },
  {
   "cell_type": "markdown",
   "metadata": {},
   "source": [
    "## Plot and Compare"
   ],
   "id": "e09f6949d64e3e82"
  },
  {
   "cell_type": "code",
   "execution_count": null,
   "metadata": {},
   "outputs": [],
   "source": [
    "for metric_idx, metric_name in zip([1, 2], [\"Train Accuracy\", \"Test Accuracy\"]):\n",
    "    plt.figure(figsize=(8, 5))\n",
    "    for name in results:\n",
    "        plt.plot(results[name][metric_idx], label=name)\n",
    "    plt.title(metric_name + \" per Epoch\")\n",
    "    plt.xlabel(\"Epoch\")\n",
    "    plt.ylabel(\"Accuracy (%)\")\n",
    "    plt.legend()\n",
    "    plt.grid(True)\n",
    "    plt.show()"
   ],
   "id": "8ddc3df7484234ef"
  },
  {
   "metadata": {},
   "cell_type": "markdown",
   "source": "",
   "id": "3d3650d2243ed9e0"
  }
 ],
 "metadata": {
  "kernelspec": {
   "display_name": "Python 3",
   "language": "python",
   "name": "python3"
  },
  "language_info": {
   "name": "python",
   "version": "3.10"
  }
 },
 "nbformat": 4,
 "nbformat_minor": 5
}
