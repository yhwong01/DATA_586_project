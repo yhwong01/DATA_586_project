{
 "cells": [
  {
   "cell_type": "markdown",
   "metadata": {},
   "source": [
    "# Vision Transformers vs. CNN on CIFAR-10\n",
    "\n",
    "## Training for VIT"
   ],
   "id": "eeab425f8bdc2b1d"
  },
  {
   "cell_type": "code",
   "metadata": {
    "ExecuteTime": {
     "end_time": "2025-04-20T06:33:31.263030Z",
     "start_time": "2025-04-20T06:33:28.299384Z"
    }
   },
   "source": [
    "# Install required package\n",
    "!pip install timm --quiet"
   ],
   "id": "43f94f691da7c9e4",
   "outputs": [
    {
     "name": "stderr",
     "output_type": "stream",
     "text": [
      "\n",
      "[notice] A new release of pip is available: 23.2.1 -> 25.0.1\n",
      "[notice] To update, run: python.exe -m pip install --upgrade pip\n"
     ]
    }
   ],
   "execution_count": 1
  },
  {
   "cell_type": "code",
   "metadata": {
    "ExecuteTime": {
     "end_time": "2025-04-20T06:33:37.746578Z",
     "start_time": "2025-04-20T06:33:31.364554Z"
    }
   },
   "source": [
    "# Import packages\n",
    "import torch\n",
    "import torch.nn as nn\n",
    "import torchvision\n",
    "import torchvision.transforms as transforms\n",
    "from torchvision.models import resnet18\n",
    "import timm\n",
    "import time\n",
    "import matplotlib.pyplot as plt\n",
    "import tqdm\n",
    "import copy"
   ],
   "id": "4f673aac6f2c754a",
   "outputs": [],
   "execution_count": 2
  },
  {
   "cell_type": "code",
   "metadata": {
    "ExecuteTime": {
     "end_time": "2025-04-20T06:33:38.189791Z",
     "start_time": "2025-04-20T06:33:38.166830Z"
    }
   },
   "source": [
    "# Device configuration\n",
    "device = torch.device('cuda' if torch.cuda.is_available() else 'cpu')"
   ],
   "id": "5f2be51183ebdd72",
   "outputs": [],
   "execution_count": 3
  },
  {
   "cell_type": "markdown",
   "metadata": {},
   "source": [
    "## Load and preprocess CIFAR-10"
   ],
   "id": "69b58099938ec704"
  },
  {
   "cell_type": "code",
   "metadata": {
    "ExecuteTime": {
     "end_time": "2025-04-20T06:33:39.832748Z",
     "start_time": "2025-04-20T06:33:38.256281Z"
    }
   },
   "source": [
    "transform = transforms.Compose([\n",
    "    transforms.Resize(224),\n",
    "    transforms.ToTensor(),\n",
    "    transforms.Normalize((0.485, 0.456, 0.406), \n",
    "                         (0.229, 0.224, 0.225))\n",
    "])\n",
    "\n",
    "train_dataset = torchvision.datasets.CIFAR10(root='./data', train=True,\n",
    "                                             download=True, transform=transform)\n",
    "test_dataset = torchvision.datasets.CIFAR10(root='./data', train=False,\n",
    "                                            download=True, transform=transform)\n",
    "\n",
    "train_loader = torch.utils.data.DataLoader(train_dataset, batch_size=64, shuffle=True)\n",
    "test_loader = torch.utils.data.DataLoader(test_dataset, batch_size=64, shuffle=False)"
   ],
   "id": "2455448d7479a8f",
   "outputs": [
    {
     "name": "stdout",
     "output_type": "stream",
     "text": [
      "Files already downloaded and verified\n",
      "Files already downloaded and verified\n"
     ]
    }
   ],
   "execution_count": 4
  },
  {
   "cell_type": "markdown",
   "metadata": {},
   "source": [
    "## Define training and evaluation utilities"
   ],
   "id": "6090a804e599d036"
  },
  {
   "cell_type": "code",
   "metadata": {
    "ExecuteTime": {
     "end_time": "2025-04-20T06:53:42.986577Z",
     "start_time": "2025-04-20T06:53:42.974465Z"
    }
   },
   "source": [
    "def train(model, train_loader, criterion, optimizer, device):\n",
    "    model.train()\n",
    "    running_loss, correct, total = 0.0, 0, 0\n",
    "    for images, labels in train_loader:\n",
    "        images, labels = images.to(device), labels.to(device)\n",
    "        optimizer.zero_grad()\n",
    "        outputs = model(images)\n",
    "        loss = criterion(outputs, labels)\n",
    "        loss.backward()\n",
    "        optimizer.step()\n",
    "        running_loss += loss.item()\n",
    "        _, predicted = torch.max(outputs.data, 1)\n",
    "        total += labels.size(0)\n",
    "        correct += (predicted == labels).sum().item()\n",
    "    return running_loss / len(train_loader), 100 * correct / total\n",
    "\n",
    "def evaluate(model, test_loader, device, criterion):\n",
    "    model.eval()\n",
    "    correct, total = 0, 0\n",
    "    total_loss = 0.0\n",
    "\n",
    "    with torch.no_grad():\n",
    "        for images, labels in test_loader:\n",
    "            images, labels = images.to(device), labels.to(device)\n",
    "            outputs = model(images)\n",
    "            loss = criterion(outputs, labels)\n",
    "            total_loss += loss.item()\n",
    "\n",
    "            _, predicted = torch.max(outputs.data, 1)\n",
    "            total += labels.size(0)\n",
    "            correct += (predicted == labels).sum().item()\n",
    "\n",
    "    accuracy = 100 * correct / total\n",
    "    avg_loss = total_loss / len(test_loader)\n",
    "    return accuracy, avg_loss"
   ],
   "id": "c92050b223702b81",
   "outputs": [],
   "execution_count": 13
  },
  {
   "cell_type": "markdown",
   "metadata": {},
   "source": "## Train ViT",
   "id": "fa729d37e3fb4323"
  },
  {
   "metadata": {
    "ExecuteTime": {
     "end_time": "2025-04-20T07:00:54.467298600Z",
     "start_time": "2025-04-20T06:57:19.302056Z"
    }
   },
   "cell_type": "code",
   "source": [
    "# Load ViT Tiny\n",
    "vit = timm.create_model('vit_tiny_patch16_224', pretrained=True, num_classes=10)\n",
    "vit = vit.to(device)\n",
    "\n",
    "# Training Setup\n",
    "criterion = nn.CrossEntropyLoss()\n",
    "optimizer = torch.optim.Adam(vit.parameters(), lr=1e-4)\n",
    "\n",
    "# Train with early stopping (patience=2, max 20 epochs)\n",
    "epochs = 20\n",
    "best_acc = 0.0\n",
    "patience = 2\n",
    "wait = 0\n",
    "best_model = copy.deepcopy(vit.state_dict())\n",
    "train_accs, test_accs = [], []\n",
    "train_losses, test_losses = [], []\n",
    "\n",
    "for epoch in range(epochs):\n",
    "    vit.train()\n",
    "    running_loss, correct, total = 0.0, 0, 0\n",
    "\n",
    "    loop = tqdm.tqdm(train_loader, desc=f\"Epoch {epoch+1}\", leave=False)\n",
    "    for images, labels in loop:\n",
    "        images, labels = images.to(device), labels.to(device)\n",
    "        optimizer.zero_grad()\n",
    "        outputs = vit(images)\n",
    "        loss = criterion(outputs, labels)\n",
    "        loss.backward()\n",
    "        optimizer.step()\n",
    "\n",
    "        running_loss += loss.item()\n",
    "        _, preds = torch.max(outputs, 1)\n",
    "        total += labels.size(0)\n",
    "        correct += (preds == labels).sum().item()\n",
    "        acc = 100 * correct / total\n",
    "        loop.set_postfix(loss=loss.item(), acc=acc)\n",
    "\n",
    "    train_acc = 100 * correct / total\n",
    "    avg_train_loss = running_loss / len(train_loader)\n",
    "    train_accs.append(train_acc)\n",
    "    train_losses.append(avg_train_loss)\n",
    "\n",
    "    test_acc, avg_test_loss = evaluate(vit, test_loader, device,criterion)\n",
    "    test_accs.append(test_acc)\n",
    "    test_losses.append(avg_test_loss)\n",
    "\n",
    "    print(f\"Epoch {epoch+1}: Train Acc={train_acc:.2f}%, Test Acc={test_acc:.2f}%, \"\n",
    "          f\"Train Loss={avg_train_loss:.4f}, Test Loss={avg_test_loss:.4f}\")\n",
    "\n",
    "    if test_acc > best_acc:\n",
    "        best_acc = test_acc\n",
    "        best_model = copy.deepcopy(vit.state_dict())\n",
    "        wait = 0\n",
    "    else:\n",
    "        wait += 1\n",
    "        if wait >= patience:\n",
    "            print(f\"Early stopping triggered at epoch {epoch+1}.\")\n",
    "            break\n",
    "\n",
    "# 6. Save Best Model\n",
    "torch.save(best_model, \"vit_cifar10.pth\")\n",
    "print(f\"Best Test Accuracy: {best_acc:.2f}%\")\n"
   ],
   "id": "538243096ca755a7",
   "outputs": [
    {
     "name": "stderr",
     "output_type": "stream",
     "text": [
      "                                                                                  \r"
     ]
    },
    {
     "name": "stdout",
     "output_type": "stream",
     "text": [
      "Epoch 1: Train Acc=91.84%, Test Acc=94.69%, Train Loss=0.2406, Test Loss=0.1575\n"
     ]
    },
    {
     "name": "stderr",
     "output_type": "stream",
     "text": [
      "                                                                                \r\n",
      "KeyboardInterrupt\n",
      "\n"
     ]
    }
   ],
   "execution_count": 15
  },
  {
   "cell_type": "markdown",
   "metadata": {},
   "source": [
    "## Plot and Compare"
   ],
   "id": "e09f6949d64e3e82"
  },
  {
   "cell_type": "code",
   "metadata": {
    "ExecuteTime": {
     "end_time": "2025-04-20T07:01:23.257988Z",
     "start_time": "2025-04-20T07:01:23.028856Z"
    }
   },
   "source": [
    "import matplotlib.pyplot as plt\n",
    "import pickle\n",
    "\n",
    "# 1. Save Accuracy Plot\n",
    "plt.figure(figsize=(10, 4))\n",
    "plt.plot(epochs, train_accs, label='Train Accuracy')\n",
    "plt.plot(epochs, test_accs, label='Test Accuracy')\n",
    "plt.title('Accuracy vs Epochs')\n",
    "plt.xlabel('Epoch')\n",
    "plt.ylabel('Accuracy (%)')\n",
    "plt.legend()\n",
    "plt.grid(True)\n",
    "plt.tight_layout()\n",
    "acc_path = \"accuracy_plot.png\"\n",
    "plt.savefig(acc_path)\n",
    "plt.close()\n",
    "\n",
    "# 2. Save Loss Plot\n",
    "plt.figure(figsize=(10, 4))\n",
    "plt.plot(epochs, train_losses, label='Train Loss')\n",
    "plt.plot(epochs, test_losses, label='Test Loss')\n",
    "plt.title('Loss vs Epochs')\n",
    "plt.xlabel('Epoch')\n",
    "plt.ylabel('Cross-Entropy Loss')\n",
    "plt.legend()\n",
    "plt.grid(True)\n",
    "plt.tight_layout()\n",
    "loss_path = \"loss_plot.png\"\n",
    "plt.savefig(loss_path)\n",
    "plt.close()\n",
    "\n",
    "# 3. Save training statistics to dictionary\n",
    "training_stats = {\n",
    "    \"epochs\": epochs,\n",
    "    \"train_accs\": train_accs,\n",
    "    \"test_accs\": test_accs,\n",
    "    \"train_losses\": train_losses,\n",
    "    \"test_losses\": test_losses\n",
    "}\n",
    "\n",
    "stats_path = \"training_stats.pkl\"\n",
    "with open(stats_path, \"wb\") as f:\n",
    "    pickle.dump(training_stats, f)\n",
    "\n",
    "acc_path, loss_path, stats_path"
   ],
   "id": "8ddc3df7484234ef",
   "outputs": [
    {
     "data": {
      "text/plain": [
       "('accuracy_plot.png', 'loss_plot.png', 'training_stats.pkl')"
      ]
     },
     "execution_count": 17,
     "metadata": {},
     "output_type": "execute_result"
    }
   ],
   "execution_count": 17
  },
  {
   "metadata": {},
   "cell_type": "markdown",
   "source": "",
   "id": "3d3650d2243ed9e0"
  }
 ],
 "metadata": {
  "kernelspec": {
   "display_name": "Python 3",
   "language": "python",
   "name": "python3"
  },
  "language_info": {
   "name": "python",
   "version": "3.10"
  }
 },
 "nbformat": 4,
 "nbformat_minor": 5
}
